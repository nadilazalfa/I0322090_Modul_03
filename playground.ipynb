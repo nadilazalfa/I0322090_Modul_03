{
 "cells": [
  {
   "attachments": {},
   "cell_type": "markdown",
   "metadata": {},
   "source": [
    "### Instruksi:\n",
    "1. Buka buku Learn Python 3 The Hard Way.\n",
    "2. Di bawah ini ada Example dari beberapa Bab yang memuat Operator.\n",
    "3. Silakan kalian bisa latihan dengan melakukan dari yang diinstruksikan pada bagian \"Study Drill\" yang ada di bawah Example\n",
    "4. Bisa dibaca-baca bukunya agar mendapatkan wawasan lebih dari apa yang asisten berikan"
   ]
  },
  {
   "attachments": {},
   "cell_type": "markdown",
   "metadata": {},
   "source": [
    " "
   ]
  },
  {
   "attachments": {},
   "cell_type": "markdown",
   "metadata": {},
   "source": [
    "3: Numbers and Math"
   ]
  },
  {
   "cell_type": "code",
   "execution_count": 1,
   "metadata": {},
   "outputs": [
    {
     "name": "stdout",
     "output_type": "stream",
     "text": [
      "I will now count my chickens:\n",
      "Hens 30.0\n",
      "Roosters 97\n",
      "Now I will count the eggs:\n",
      "6.75\n",
      "Is it true that 3 + 2 < 5 - 7?\n",
      "False\n",
      "What is 3 + 2? 5\n",
      "What is 5 - 7? -2\n",
      "Oh, that's why it's False.\n",
      "How about some more.\n",
      "Is it greater? True\n",
      "Is it greater or equal? True\n",
      "Is it less or equal? False\n"
     ]
    }
   ],
   "source": [
    "# ex3: Numbers and Math\n",
    "print(\"I will now count my chickens:\") \n",
    "print(\"Hens\", 25 + 30 / 6) \n",
    "print(\"Roosters\", 100 -25 * 3 % 4)\n",
    "\n",
    "print(\"Now I will count the eggs:\")\n",
    "\n",
    "print(3 + 2 + 1 - 5 + 4 % 2 - 1 / 4 + 6)\n",
    "\n",
    "print(\"Is it true that 3 + 2 < 5 - 7?\")\n",
    "\n",
    "print(3 + 2 < 5 - 7)\n",
    "\n",
    "print(\"What is 3 + 2?\", 3 + 2)\n",
    "\n",
    "print(\"What is 5 - 7?\", 5 - 7)\n",
    "\n",
    "print(\"Oh, that's why it's False.\")\n",
    "\n",
    "print(\"How about some more.\")\n",
    "\n",
    "print(\"Is it greater?\", 5 > -2)\n",
    "print(\"Is it greater or equal?\", 5 >= -2)\n",
    "print(\"Is it less or equal?\", 5 <= -2)\n"
   ]
  },
  {
   "cell_type": "code",
   "execution_count": null,
   "metadata": {},
   "outputs": [],
   "source": [
    "# Kerjakan Study Drill 3) di sini\n",
    "\n",
    "#untuk mencetak kalimat i will now count my chicken \n",
    "print(\"I will now count my chickens:\")\n",
    "#untuk mencetak kalimat hens dan hasil dari penjumlahan lalu pembagian \n",
    "print(\"Hens\", 25 + 30 / 6)\n",
    "#untuk mencetak Roosters, dan hasil 100 - 25*3%4\n",
    "print(\"Roosters\", 100 -25 * 3 % 4)\n",
    "#untuk mem print kalimat i will now count my chicken \n",
    "print(\"Now I will count the eggs:\")\n",
    "#mem-print jumlah telur dengan rumus    3 + 2 + 1 - 5 + 4 % 2 - 1 / 4 + 6\n",
    "print(3 + 2 + 1 - 5 + 4 % 2 - 1 / 4 + 6)\n",
    "#mem print menanyakan apakah benar 3 + 2 < 5 - 7?\n",
    "print(\"Is it true that 3 + 2 < 5 - 7?\")\n",
    "#menunjukkan hasil dari pertanyaan diatas\n",
    "print(3 + 2 < 5 - 7)\n",
    "#mem print menanyakan berapa 3 + 2? dan di lanjutkan dengan jawaban dari pertanyaan\n",
    "print(\"What is 3 + 2?\", 3 + 2)\n",
    "#mem print menanyakan berapa 5 - 7? dan di lanjutkan dengan jawaban dari pertanyaan\n",
    "print(\"What is 5 - 7?\", 5 - 7)\n",
    "#mem print kalimat oh, that's why it's false\n",
    "print(\"Oh, that's why it's False.\")\n",
    "#mem print kalimat how about some more\n",
    "print(\"How about some more.\")\n",
    "#mem print dan menanyakan apakah 5 lebih besar dari 2 dan dijawab dengan true\n",
    "print(\"Is it greater?\", 5 > -2)\n",
    "#mem-print dan menanyakan apakah 5 lebih besar atau sama dengan dari 2 dan dijawab dengan true\n",
    "print(\"Is it greater or equal?\", 5 >= -2)\n",
    "#mem print dan menanyakan apakah 5 lebih kecil atau sama dengan dari 2 dan dijawab dengan false\n",
    "print(\"Is it less or equal?\", 5 <= -2)"
   ]
  },
  {
   "attachments": {},
   "cell_type": "markdown",
   "metadata": {},
   "source": [
    "4: Variables and Names"
   ]
  },
  {
   "cell_type": "code",
   "execution_count": 5,
   "metadata": {},
   "outputs": [
    {
     "name": "stdout",
     "output_type": "stream",
     "text": [
      "There are 100 cars available.\n",
      "There are only 30 drivers available.\n",
      "There will be 70 empty cars today.\n",
      "We can transport 120.0 people today.\n",
      "We have 90 to carpool today.\n",
      "We need to put about 3.0 in each car.\n"
     ]
    }
   ],
   "source": [
    "cars = 100\n",
    "space_in_a_car = 4.0\n",
    "drivers = 30\n",
    "passengers = 90\n",
    "cars_not_driven = cars - drivers\n",
    "cars_driven = drivers\n",
    "carpool_capacity = cars_driven * space_in_a_car\n",
    "average_passengers_per_car = passengers / cars_driven\n",
    "\n",
    "print(\"There are\", cars, \"cars available.\")\n",
    "print(\"There are only\", drivers, \"drivers available.\")\n",
    "print(\"There will be\", cars_not_driven, \"empty cars today.\")\n",
    "print(\"We can transport\", carpool_capacity, \"people today.\")\n",
    "print(\"We have\", passengers, \"to carpool today.\")\n",
    "print(\"We need to put about\", average_passengers_per_car, \"in each car.\")"
   ]
  },
  {
   "cell_type": "code",
   "execution_count": null,
   "metadata": {},
   "outputs": [],
   "source": [
    "# Kerjakan Study Drill 4) di sini\n",
    "\n",
    "#menyatakan variable 'cars' berjumlah 100 \n",
    "cars = 100\n",
    "#menyatakan variable 'space_in_a_car' berjumlah 4.0\n",
    "space_in_a_car = 4.0\n",
    "#menyatakan variable 'drivers' berjumlah 30\n",
    "drivers = 30\n",
    "#menyatakan variable 'passengers' berjumlah 90\n",
    "passengers = 90\n",
    "#menyatakan variable 'cars_not_driven' = jumlah variable 'cars' dikurangi variable 'drivers'\n",
    "cars_not_driven = cars - drivers\n",
    "#menyatakan variable 'cars_driven' sama dengan jumlah variable 'drivers' \n",
    "cars_driven = drivers\n",
    "#menyatakan variable 'carpool_capacity' = variable 'cars_driven' dikali dengan variable 'space_in_a_car'\n",
    "carpool_capacity = cars_driven * space_in_a_car\n",
    "#menyatakan variable 'average_passenger_per_car' = variable 'passenger' dibagi dengan variable 'cars_driven'\n",
    "average_passengers_per_car = passengers / cars_driven\n",
    "\n",
    "#mem print jumlah mobil yang tersedia\n",
    "print(\"There are\", cars, \"cars available.\")\n",
    "#mem print jumlah pengemudi yang tersedia\n",
    "print(\"There are only\", drivers, \"drivers available.\")\n",
    "#mem print jumlah mobil yang tidak dikemudikan\n",
    "print(\"There will be\", cars_not_driven, \"empty cars today.\")\n",
    "#mem print jumlah kapasitas penumpang\n",
    "print(\"We can transport\", carpool_capacity, \"people today.\")\n",
    "#mem-print jumlah penumpang pada hari ini\n",
    "print(\"We have\", passengers, \"to carpool today.\")\n",
    "#mem-print rata - rata penumpang pada tiap mobil\n",
    "print(\"We need to put about\", average_passengers_per_car, \"in each car.\")\n"
   ]
  },
  {
   "attachments": {},
   "cell_type": "markdown",
   "metadata": {},
   "source": [
    "### Instruksi:\n",
    "1. Tulis ulang kode contoh di atasnya dengan sebelumnya artikan dengan command (#)"
   ]
  },
  {
   "attachments": {},
   "cell_type": "markdown",
   "metadata": {},
   "source": [
    "Contoh\n",
    "\n",
    "Tulis program Python yang dapat menghitung luas dari Lingkaran dengan jari-jari yang diinput!"
   ]
  },
  {
   "cell_type": "code",
   "execution_count": null,
   "metadata": {},
   "outputs": [],
   "source": [
    "from math import pi\n",
    "r = float(input (\"Input the radius of the circle : \"))\n",
    "print (\"The area of the circle with radius \" + str(r) + \" is: \" + str(pi * r**2))"
   ]
  },
  {
   "cell_type": "code",
   "execution_count": null,
   "metadata": {},
   "outputs": [],
   "source": [
    "# import pi dari math library\n",
    "from math import pi\n",
    "\n",
    "# membuat variabel untuk user menginputkan nilai jari-jari\n",
    "r = float(input (\"Masukkan jari-jari lingkaran: \"))\n",
    "\n",
    "# Mem-print nilai luas lingkaran sekaligus menghitungnya\n",
    "print (\"Luas lingkaran dengan jari-jari \" + str(r) + \" adalah: \" + str(pi * r**2))"
   ]
  },
  {
   "attachments": {},
   "cell_type": "markdown",
   "metadata": {},
   "source": [
    "5: Tulis program Python untuk tambah, kurang, kali, dan bagi dari dua buah pecahan"
   ]
  },
  {
   "cell_type": "code",
   "execution_count": null,
   "metadata": {},
   "outputs": [],
   "source": [
    "import fractions\n",
    "\n",
    "f1 = fractions.Fraction(2, 3)\n",
    "f2 = fractions.Fraction(3, 7)\n",
    "\n",
    "print('{} + {} = {}'.format(f1, f2, f1 + f2))\n",
    "print('{} - {} = {}'.format(f1, f2, f1 - f2))\n",
    "print('{} * {} = {}'.format(f1, f2, f1 * f2))\n",
    "print('{} / {} = {}'.format(f1, f2, f1 / f2))"
   ]
  },
  {
   "cell_type": "code",
   "execution_count": null,
   "metadata": {},
   "outputs": [],
   "source": [
    "# Kerjakan Study Drill import fractions\n",
    "\n",
    "##impor fraction dari library\n",
    "import fractions\n",
    "\n",
    "#menyatakan f1 bentuk pecahan dari 2/3\n",
    "f1 = fractions.Fraction(2, 3)\n",
    "#menyatakan f2 bentuk pecahan dari 3/7\n",
    "f2 = fractions.Fraction(3, 7)\n",
    "\n",
    "#mem print string yang berformat dari f1, f2, dan f1+f2\n",
    "print('{} + {} = {}'.format(f1, f2, f1 + f2))\n",
    "#mem print string yang berformat dari f1, f2, dan f1-f2\n",
    "print('{} - {} = {}'.format(f1, f2, f1 - f2))\n",
    "#mem print string yang berformat dari f1, f2, dan f1*f2\n",
    "print('{} * {} = {}'.format(f1, f2, f1 * f2))\n",
    "#mem print string yang berformat dari f1, f2, dan f1/f2\n",
    "print('{} / {} = {}'.format(f1, f2, f1 / f2))"
   ]
  },
  {
   "attachments": {},
   "cell_type": "markdown",
   "metadata": {},
   "source": [
    "6: Tulis program Python yang akan menghitung luas dari segitiga dengan alas dan tinggi yang kamu inputkan!"
   ]
  },
  {
   "cell_type": "code",
   "execution_count": null,
   "metadata": {},
   "outputs": [],
   "source": [
    "b = int(input(\"Input alas : \"))\n",
    "h = int(input(\"Input tinggi : \"))\n",
    "\n",
    "luas = b*h/2\n",
    "\n",
    "print(\"luas = \", luas)"
   ]
  },
  {
   "cell_type": "code",
   "execution_count": 4,
   "metadata": {},
   "outputs": [
    {
     "name": "stdout",
     "output_type": "stream",
     "text": [
      "luas =  25.0\n"
     ]
    }
   ],
   "source": [
    "# Kerjakan Study Drill 6 di sini\n",
    "# membuat variabel untuk user menginputkan nilai alas\n",
    "b = int(input(\"Input alas : \"))\n",
    "# membuat variabel untuk user menginputkan nilai tinggi  \n",
    "h = int(input(\"Input tinggi : \"))\n",
    "#menuliskan rumus luas segitiga yaitu alas * tinggi lalu di bagi 2 \n",
    "luas = b*h/2\n",
    "#mencetak luas segitiga dan hitunganya\n",
    "print(\"luas = \", luas)\n",
    "\n"
   ]
  },
  {
   "attachments": {},
   "cell_type": "markdown",
   "metadata": {},
   "source": [
    "7: Tulis program Python yang dapat menghitung luas permukaan dan volume dari Tabung!"
   ]
  },
  {
   "cell_type": "code",
   "execution_count": null,
   "metadata": {},
   "outputs": [],
   "source": [
    "pi=22/7\n",
    "tinggi = float(input('Tinggi dari Tabung: '))\n",
    "jarijari = float(input('Jari-jari dari Tabung: '))\n",
    "volume = pi * jarijari * jarijari * tinggi\n",
    "lp = ((2*pi*jarijari) * tinggi) + ((pi*jarijari**2)*2)\n",
    "print(\"Volume tabung adalah: \", volume)\n",
    "print(\"Luas permukaan tabung adalah: \", lp)"
   ]
  },
  {
   "cell_type": "code",
   "execution_count": null,
   "metadata": {},
   "outputs": [],
   "source": [
    "# Kerjakan Study Drill 7 di sini\n",
    "#menuliskan bahwa pi adalah 22/7\n",
    "pi=22/7\n",
    "# membuat variabel untuk user menginputkan nilai tinggi tabung\n",
    "tinggi = float(input('Tinggi dari Tabung: '))\n",
    "# membuat variabel untuk user menginputkan nilai jari-jari\n",
    "jarijari = float(input('Jari-jari dari Tabung: '))\n",
    "#membuat rumus volume tabung \n",
    "volume = pi * jarijari * jarijari * tinggi\n",
    "#membuat rumus luas permukaan tabung \n",
    "lp = ((2*pi*jarijari) * tinggi) + ((pi*jarijari**2)*2)\n",
    "#Mem-print nilai volume tabung sekaligus menghitungnya\n",
    "print(\"Volume tabung adalah: \", volume)\n",
    "#Mem-print nilai luas permukaan tabung sekaligus menghitungnya\n",
    "print(\"Luas permukaan tabung adalah: \", lp)"
   ]
  },
  {
   "attachments": {},
   "cell_type": "markdown",
   "metadata": {},
   "source": [
    "8: Tulis program Python untuk mendapatkan akar pangkat dua dan pangkat dari nilai desimal yang diberikan!"
   ]
  },
  {
   "cell_type": "code",
   "execution_count": null,
   "metadata": {},
   "outputs": [],
   "source": [
    "from decimal import *\n",
    "x = Decimal('1.44')\n",
    "print(\"Akar pangkat dua dari\",x, \"adalah :\", x.sqrt())\n",
    "print(\"Pangkat dua dari\",x, \" adalah :\", x.exp())\n"
   ]
  },
  {
   "cell_type": "code",
   "execution_count": null,
   "metadata": {},
   "outputs": [],
   "source": [
    "# Kerjakan Study Drill 8 di sini\n",
    "# import * dari decimal library\n",
    "from decimal import *\n",
    "#membuat variabel bahwa x adalah bilangan decimal 1.44\n",
    "x = Decimal('1.44')\n",
    "#Mem-print nilai akar pangkat dua dari x sekaligus menghitungnya\n",
    "print(\"Akar pangkat dua dari\",x, \"adalah :\", x.sqrt())\n",
    "#Mem-print nilai pangkat dua dari x sekaligus menghitungnya\n",
    "print(\"Pangkat dua dari\",x, \" adalah :\", x.exp())"
   ]
  },
  {
   "attachments": {},
   "cell_type": "markdown",
   "metadata": {},
   "source": [
    "9: Tulis program Python yang dapat menentukan apakah benar bilangan tersebut LEBIH BESAR dari 4^4 DAN jika di-MODULUS-kan 34 hasilnya adalah 4!"
   ]
  },
  {
   "cell_type": "code",
   "execution_count": 6,
   "metadata": {},
   "outputs": [
    {
     "name": "stdout",
     "output_type": "stream",
     "text": [
      "Original Integer:\n",
      "922\n",
      "Apakah benar integer tersebut lebih besar dari 4^4 dan hasilnya 4 jika di-mod-kan dengan 34:\n",
      "True\n",
      "\n",
      "Original Integer:\n",
      "914\n",
      "Apakah benar integer tersebut lebih besar dari 4^4 dan hasilnya 4 jika di-mod-kan dengan 34:\n",
      "False\n",
      "\n",
      "Original Integer:\n",
      "854\n",
      "Apakah benar integer tersebut lebih besar dari 4^4 dan hasilnya 4 jika di-mod-kan dengan 34:\n",
      "True\n"
     ]
    }
   ],
   "source": [
    "def test(n):\n",
    "    return n % 34 == 4 and n > 4 ** 4\n",
    "\n",
    "n = 922\n",
    "print(\"Original Integer:\")\n",
    "print(n)\n",
    "print(\"Apakah benar integer tersebut lebih besar dari 4^4 dan hasilnya 4 jika di-mod-kan dengan 34:\")\n",
    "\n",
    "print(test(n))\n",
    "\n",
    "n = 914\n",
    "print(\"\\nOriginal Integer:\")\n",
    "print(n)\n",
    "print(\"Apakah benar integer tersebut lebih besar dari 4^4 dan hasilnya 4 jika di-mod-kan dengan 34:\")\n",
    "print(test(n))\n",
    "\n",
    "n = 854\n",
    "print(\"\\nOriginal Integer:\")\n",
    "print(n)\n",
    "print(\"Apakah benar integer tersebut lebih besar dari 4^4 dan hasilnya 4 jika di-mod-kan dengan 34:\")\n",
    "print(test(n))"
   ]
  },
  {
   "cell_type": "code",
   "execution_count": null,
   "metadata": {},
   "outputs": [],
   "source": [
    "# Kerjakan Study Drill 9 di sini\n",
    "## Kalian bisa coba membuktikan dengan menghitung hasil dari 4^4 dan mod 34 dari bilangan integernya\n",
    "\n",
    "#mendefinisikan fungsi 'test' saat dimasukkan dengan variable n\n",
    "def test(n):\n",
    "     #menghitung n jika dimod 34 apakah akan menghasilkan 4 dan menanyakan apakah n lebih besar daripada 4^4 dan mereturn tiap kali digunakan\n",
    "    return n % 34 == 4 and n > 4 ** 4\n",
    "\n",
    "#menyatakan variable n merupakan 922 \n",
    "n = 922\n",
    "#mem print kalimat Original Integer\n",
    "print(\"Original Integer:\")\n",
    "#mem-print variable n yang di dapat dari variable diatas\n",
    "print(n)\n",
    "#mem print tulisan \"Apakah benar integer tersebut lebih besar dari 4^4 dan hasilnya 4 jika di-mod-kan dengan 34:\"\n",
    "print(\"Apakah benar integer tersebut lebih besar dari 4^4 dan hasilnya 4 jika di-mod-kan dengan 34:\")\n",
    "\n",
    "#memprint hasil test dari variable n = 922\n",
    "print(test(n))\n",
    "\n",
    "#menyatakan variable n merupakan 914\n",
    "n = 914\n",
    "#mem print kalimat Original Integer\n",
    "print(\"\\nOriginal Integer:\")\n",
    "#mem print variable n yang di dapat dari variable diatas\n",
    "print(n)\n",
    "#mem print tulisan \"Apakah benar integer tersebut lebih besar dari 4^4 dan hasilnya 4 jika di-mod-kan dengan 34:\"\n",
    "print(\"Apakah benar integer tersebut lebih besar dari 4^4 dan hasilnya 4 jika di-mod-kan dengan 34:\")\n",
    "#memprint hasil test dari variable n = 914\n",
    "print(test(n))\n",
    "\n",
    "#menyatakan variable n merupakan 854\n",
    "n = 854\n",
    "#mem print kalimat Original Integer\n",
    "print(\"\\nOriginal Integer:\")\n",
    "#mem print variable n yang di dapat dari variable diatas\n",
    "print(n)\n",
    "#mem print tulisan \"Apakah benar integer tersebut lebih besar dari 4^4 dan hasilnya 4 jika di-mod-kan dengan 34:\"\n",
    "print(\"Apakah benar integer tersebut lebih besar dari 4^4 dan hasilnya 4 jika di-mod-kan dengan 34:\")\n",
    "#memprint hasil test dari variable n = 854\n",
    "print(test(n))"
   ]
  },
  {
   "attachments": {},
   "cell_type": "markdown",
   "metadata": {},
   "source": [
    "10: Tulis program Python yang dapat menyimpan nama depan dan nama belakang user dan mem-print-nya dengan dibalik antara keduanya!\n"
   ]
  },
  {
   "cell_type": "code",
   "execution_count": null,
   "metadata": {},
   "outputs": [],
   "source": [
    "fname = input(\"Input your First Name : \")\n",
    "lname = input(\"Input your Last Name : \")\n",
    "print (\"Hello  \" + lname + \" \" + fname)"
   ]
  },
  {
   "cell_type": "code",
   "execution_count": null,
   "metadata": {},
   "outputs": [],
   "source": [
    "# Kerjakan Study Drill 10 di sini\n",
    "# membuat variabel untuk user menginputkan first name\n",
    "fname = input(\"Input your First Name : \")\n",
    "# membuat variabel untuk user menginputkan last name\n",
    "lname = input(\"Input your Last Name : \")\n",
    "#Mem-print kalimat halo sekaligus last name lalu first name \n",
    "\n",
    "print (\"Hello  \" + lname + \" \" + fname)"
   ]
  }
 ],
 "metadata": {
  "kernelspec": {
   "display_name": "Python 3",
   "language": "python",
   "name": "python3"
  },
  "language_info": {
   "codemirror_mode": {
    "name": "ipython",
    "version": 3
   },
   "file_extension": ".py",
   "mimetype": "text/x-python",
   "name": "python",
   "nbconvert_exporter": "python",
   "pygments_lexer": "ipython3",
   "version": "3.10.8"
  },
  "orig_nbformat": 4
 },
 "nbformat": 4,
 "nbformat_minor": 2
}
